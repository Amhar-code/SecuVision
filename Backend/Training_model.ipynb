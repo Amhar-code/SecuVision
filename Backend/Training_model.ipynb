{
 "cells": [
  {
   "cell_type": "markdown",
   "id": "b18c2544",
   "metadata": {},
   "source": [
    "Training the model"
   ]
  },
  {
   "cell_type": "code",
   "execution_count": null,
   "id": "5893978c",
   "metadata": {},
   "outputs": [],
   "source": [
    "from ultralytics import YOLO\n",
    "\n",
    "model = YOLO(\"yolo11s.pt\")\n",
    "\n",
    "train_results = model.train(\n",
    "    data=\"D:/YOLO/shopliftingimg/data.yaml\",\n",
    "    epochs=150,\n",
    "    imgsz=640,\n",
    "    device=0,\n",
    "    batch=4\n",
    ")"
   ]
  },
  {
   "cell_type": "markdown",
   "id": "a2fbaf27",
   "metadata": {},
   "source": [
    "Testing the model"
   ]
  },
  {
   "cell_type": "code",
   "execution_count": null,
   "id": "1b001922",
   "metadata": {},
   "outputs": [],
   "source": [
    "from ultralytics import YOLO\n",
    "\n",
    "model = YOLO(\"runs/detect/train/weights/best.pt\")\n",
    "\n",
    "results = model(\"test_video/4.mp4\", save=True)"
   ]
  }
 ],
 "metadata": {
  "language_info": {
   "name": "python"
  }
 },
 "nbformat": 4,
 "nbformat_minor": 5
}
